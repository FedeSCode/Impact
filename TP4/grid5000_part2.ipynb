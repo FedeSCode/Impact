{
 "cells": [
  {
   "cell_type": "markdown",
   "metadata": {},
   "source": [
    "# Consommation énergétique de différents langages"
   ]
  },
  {
   "attachments": {},
   "cell_type": "markdown",
   "metadata": {},
   "source": [
    "https://www.grid5000.fr/w/Grid5000:Home\n",
    "\n",
    "ssh fsuarezpineros@access.grid5000.fr\n",
    "\n"
   ]
  },
  {
   "cell_type": "markdown",
   "metadata": {},
   "source": [
    "# 1 Déroulement de la séance"
   ]
  },
  {
   "cell_type": "markdown",
   "metadata": {},
   "source": [
    "Dans cette dernière séance de TP sur [grid5000](https://www.grid5000.fr/w/Grid5000:Home) nous allons étudier l'efficacité de trois langages de programmation classiques.\n",
    "\n",
    "Comme au TP précédent les questions alternent entre un travail sur votre machine locale/celle de l’université ou au contraire sur la plateforme Grid5000. Dans ce dernier cas elles seront marquées d'une étoile (*).\n",
    "\n",
    "Vous pourrez exécuter des commandes du terminal directement dans le notebook, par exemple pour exécuter la commande `ls` et récupérer le résultat."
   ]
  },
  {
   "cell_type": "code",
   "execution_count": 19,
   "metadata": {},
   "outputs": [
    {
     "name": "stdout",
     "output_type": "stream",
     "text": [
      " Le volume dans le lecteur C s'appelle OS\n",
      " Le num‚ro de s‚rie du volume est 0E4E-4E1E\n",
      "\n",
      " R‚pertoire de c:\\Users\\fedes\\Bureau\\Bureau\\BUREAU UNIV\\L3 Info\\S6\\Impact\\TP4\n",
      "\n",
      "07/02/2023  11:03    <DIR>          .\n",
      "07/02/2023  11:03    <DIR>          ..\n",
      "26/01/2023  23:20    <DIR>          Codes\n",
      "02/02/2023  14:13             7ÿ152 Codes.zip\n",
      "07/02/2023  10:59             8ÿ579 Fichiers dune exp‚rience t‚moin-20230207.zip\n",
      "07/02/2023  11:03           218ÿ735 getPowQuestion9.json\n",
      "07/02/2023  11:08            46ÿ123 grid5000_part2.ipynb\n",
      "07/02/2023  10:32             5ÿ360 process_energy_data.py\n",
      "01/02/2022  15:20               430 python_sort.py\n",
      "07/02/2023  10:59             2ÿ035 quickSort.class\n",
      "01/02/2022  17:26             2ÿ689 quickSort.java\n",
      "01/02/2022  15:19               830 quick_sort.c\n",
      "07/02/2023  10:59            55ÿ085 quick_sort.exe\n",
      "02/02/2023  16:31             1ÿ314 run_all_codes.py\n",
      "02/02/2023  14:47    <DIR>          __MACOSX\n",
      "07/02/2023  11:00    <DIR>          __pycache__\n",
      "              11 fichier(s)          348ÿ332 octets\n",
      "               5 R‚p(s)  31ÿ581ÿ827ÿ072 octets libres\n",
      "\n"
     ]
    }
   ],
   "source": [
    "import os\n",
    "output=os.popen('dir').read()##je suis sur windows\n",
    "print(output)"
   ]
  },
  {
   "cell_type": "markdown",
   "metadata": {},
   "source": [
    "# 2 Langages et code utilisés"
   ]
  },
  {
   "cell_type": "code",
   "execution_count": null,
   "metadata": {},
   "outputs": [],
   "source": []
  },
  {
   "cell_type": "code",
   "execution_count": null,
   "metadata": {},
   "outputs": [],
   "source": []
  },
  {
   "cell_type": "markdown",
   "metadata": {},
   "source": [
    "## Question 1"
   ]
  },
  {
   "cell_type": "markdown",
   "metadata": {},
   "source": [
    "Dans un premier temps, compilez le code C en utilisant l’instruction suivante dans un terminal ou dans le notebook via le mécanisme précédent:  \n",
    "`gcc -o quick_sort quick_sort.c`  \n",
    "Puis vérifiez que le programme s’exécute bien en lançant :  \n",
    "`./quick_sort 20`  \n",
    "Que représente le paramètre 20 ?\n",
    "Qu’est ce qui est affiché dans la console ? A quoi cela correspond il ?"
   ]
  },
  {
   "cell_type": "markdown",
   "metadata": {},
   "source": [
    "**Important pour la suite: je recommande de créer dans le dossier où se trouve le notebook un sous-dossier `Codes` où mettre les 3 fichiers C, Java et Python.**"
   ]
  },
  {
   "cell_type": "markdown",
   "metadata": {},
   "source": [
    "## Question 2"
   ]
  },
  {
   "cell_type": "code",
   "execution_count": 20,
   "metadata": {},
   "outputs": [
    {
     "name": "stdout",
     "output_type": "stream",
     "text": [
      "0.00000000000000000000\n",
      "\n"
     ]
    }
   ],
   "source": [
    "import os\n",
    "output=os.popen('py python_sort.py 200').read()\n",
    "print(output)"
   ]
  },
  {
   "cell_type": "code",
   "execution_count": 21,
   "metadata": {},
   "outputs": [
    {
     "name": "stdout",
     "output_type": "stream",
     "text": [
      "0.000000\n"
     ]
    }
   ],
   "source": [
    "import os\n",
    "os.popen('gcc -o quick_sort quick_sort.c').read()\n",
    "output = os.popen('quick_sort.exe 20').read()\n",
    "print(output)"
   ]
  },
  {
   "cell_type": "code",
   "execution_count": 22,
   "metadata": {},
   "outputs": [
    {
     "name": "stdout",
     "output_type": "stream",
     "text": [
      "0.000006100000\n",
      "\n"
     ]
    }
   ],
   "source": [
    "import os\n",
    "os.popen('javac quickSort.java').read()\n",
    "output = os.popen('java quickSort.java 20').read()\n",
    "print(output)"
   ]
  },
  {
   "cell_type": "markdown",
   "metadata": {},
   "source": [
    "## Question 3 (*)"
   ]
  },
  {
   "cell_type": "markdown",
   "metadata": {},
   "source": [
    "Après avoir copié vos trois codes sources sur grid5000 (avec `scp file <login>@access.grid5000.fr:<site>/public/`), vérifiez que vous pouvez compiler\n",
    "(lorsque nécessaire) et exécuter les programmes convenablement et que le résultat affiché\n",
    "fait du sens pour des tableaux de petite taille."
   ]
  },
  {
   "cell_type": "markdown",
   "metadata": {},
   "source": [
    "# 3 Complexité algorithmique et calibration des expériences"
   ]
  },
  {
   "cell_type": "markdown",
   "metadata": {},
   "source": [
    "Dans la suite, nous allons mesurer la puissance énergétique utilisée par ces trois codes. Compte tenu que\n",
    "grid5000 échantillonne la puissance toutes les secondes il va falloir faire tourner un code pendant au moins 10\n",
    "secondes pour espérer mesurer une valeur fiable. Bien entendu, comme le TP ne dure que 3 heures et que vous\n",
    "n’aurez qu’un temps limité vous aurez aussi une borne supérieure sur la taille des tableaux considérés."
   ]
  },
  {
   "cell_type": "markdown",
   "metadata": {},
   "source": [
    "## Question 4"
   ]
  },
  {
   "cell_type": "markdown",
   "metadata": {},
   "source": [
    "En faisant quelques tests, repérez les tailles de tableau pour lesquelles les 3 codes donnent\n",
    "un temps de calcul d’environ 1 seconde. Quelle est alors la taille minimale $N_0$ pour que le code le plus lent tourne en au moins 10 secondes ?"
   ]
  },
  {
   "attachments": {},
   "cell_type": "markdown",
   "metadata": {},
   "source": [
    "*Réponse ici :*.  \n",
    "tmp (1s):    python: 9700000  Java: 8200000  C: 5500000  \n",
    "tmp (10s): python: 97000000  Java: 82000000 C: 55000000"
   ]
  },
  {
   "cell_type": "markdown",
   "metadata": {},
   "source": [
    "## Question 5"
   ]
  },
  {
   "attachments": {},
   "cell_type": "markdown",
   "metadata": {},
   "source": [
    " On va chercher à échantillonner des tailles de tableau entre $N_0$ et une valeur $N_1 = N_0 + (p-1) \\Delta$ où $\\Delta$ est le pas et $p$ le nombre d'échantillons.\n",
    "\n",
    "Si on appelle $T_0$ le temps de calcul pour trier un tableau à $N_0$ éléments avec un certain langage, le temps de calcul total est borné par\n",
    "$$ T_{total} = (p-1) T_{pause} + \\sum_{k=0}^{p-1} (1 + k \\Delta/N_0 ) T_0 \n",
    "= (p-1) T_{pause} + p (1+\\frac{p-1}{2}\\frac\\Delta{N_0}) T_0$$"
   ]
  },
  {
   "cell_type": "markdown",
   "metadata": {},
   "source": [
    "En prenant $T_{pause}>20 s$ et $\\Delta$ proche de $T_0$, proposez des valeurs de $p$ et $\\Delta$ qui donnent un temps total raisonnable (environ 5 minutes)."
   ]
  },
  {
   "attachments": {},
   "cell_type": "markdown",
   "metadata": {},
   "source": [
    "La valeur de p = 9.3  \n",
    "La valeur de $\\Delta$ = 11"
   ]
  },
  {
   "cell_type": "markdown",
   "metadata": {},
   "source": [
    "## Question 6"
   ]
  },
  {
   "cell_type": "markdown",
   "metadata": {},
   "source": [
    "On donne les deux fonctions suivantes pour obtenir le temps de calcul d'un appel de fonction représentée dans la variable `func` :"
   ]
  },
  {
   "cell_type": "code",
   "execution_count": 23,
   "metadata": {},
   "outputs": [],
   "source": [
    "def compute_time(func,N,VERBOSE=False):\n",
    "    # func: chaîne de caractères permettant de lancer une commande, comme 'python3 python_sort.py'\n",
    "    # N: taille du tableau à trier\n",
    "    t1=time.time()\n",
    "    res = os.popen(func + \" \" + str(N)).read()\n",
    "    t2 = time.time()\n",
    "    if VERBOSE:\n",
    "        print(func + \", temps de calcul total = \"+str(t2-t1) + \" secondes\")\n",
    "        print(\"temps pour le tri = \"+str(res))\n",
    "    return t2-t1\n",
    "    \n",
    "\n",
    "def compute_times(func,all_N,t_pause=0,VERBOSE=False):\n",
    "    # computation time for func(n) for n in all_N\n",
    "    all_t = []\n",
    "    for n in all_N:\n",
    "        t = compute_time(func,n,VERBOSE)\n",
    "        time.sleep(t_pause)\n",
    "        all_t.append(t)\n",
    "    return all_t\n"
   ]
  },
  {
   "cell_type": "markdown",
   "metadata": {},
   "source": [
    "On donne aussi la fonction suivante qui permet de sauvegarder les temps de calcul en un format adapté."
   ]
  },
  {
   "cell_type": "code",
   "execution_count": 24,
   "metadata": {},
   "outputs": [],
   "source": [
    "def write_file(starting_times,end_time,data,filename='computation_time.txt'):\n",
    "    # starting times: liste des 3 temps de début des simulations des différents codes (C/Java/Python)\n",
    "    # end_time: temps final (un seul temps)\n",
    "    # data: tel qu'expliqué plus bas\n",
    "    f = open(filename, 'w')\n",
    "    for i in range(len(starting_times)):\n",
    "        f.write(starting_times[i])\n",
    "        f.write('\\n')\n",
    "        for e in data[i][2]:\n",
    "            f.write(str(e) + ',')\n",
    "        f.write('\\n')\n",
    "        for e in data[i][1]:\n",
    "            f.write(str(e) + ',')\n",
    "        f.write('\\n')\n",
    "    f.write(end_time)\n",
    "    f.write('\\n')\n",
    "    f.close()"
   ]
  },
  {
   "cell_type": "markdown",
   "metadata": {},
   "source": [
    "Ecrire un script `run_all_codes.py` en Python qui permette :\n",
    "- d’exécuter le tri rapide avec les 3 langages étudiés (Java, Python, C) pour des tableaux dont la taille est échantillonnée comme dans la question précédente\n",
    "- d'obtenir la date de lancement du code, via `time.asctime(time.gmtime())`\n",
    "- de récupérer les différents temps de calcul\n",
    "\n",
    "Vous organiserez les résultats dans une liste `data` telle que:\n",
    "- `data[i]` est une liste de taille 3 associée à un langage  (pour i = 0, 1, 2) avec\n",
    "- `data[i][0]` donne le nom de la commande utilisée\n",
    "- `data[i][1]` donne la liste des tailles de tableau\n",
    "- `data[i][2]` donne la liste des temps de calcul\n",
    "\n",
    "Ce qui vous permettra de sauvegarder les résultats dans un fichier .txt en utilisant la fonction `write_file` "
   ]
  },
  {
   "cell_type": "code",
   "execution_count": 25,
   "metadata": {},
   "outputs": [
    {
     "name": "stdout",
     "output_type": "stream",
     "text": [
      "[['py python_sort.py', [20, 25, 30, 35, 100], [0.30189967155456543, 0.2219984531402588, 0.3089156150817871, 0.29727625846862793, 0.2615537643432617]], ['gcc -o quick_sort quick_sort.c |./quick_sort.exe', [20, 25, 30, 35, 100], [0.013232707977294922, 0.012883663177490234, 0.015959978103637695, 0.022948026657104492, 0.026925325393676758]], ['java quickSort.java', [20, 25, 30, 35, 100], [0.8042099475860596, 0.9019768238067627, 0.788203239440918, 0.8472034931182861, 0.6537408828735352]]]\n"
     ]
    }
   ],
   "source": [
    "import time\n",
    "def run_all_codes():\n",
    "\n",
    "    data = []\n",
    "\n",
    "    cmd0= ['py python_sort.py']\n",
    "    cmd1=['gcc -o quick_sort quick_sort.c |./quick_sort.exe']\n",
    "    cmd2=['java quickSort.java']\n",
    "\n",
    "    list= [20,25,30,35,100]\n",
    "\n",
    "    cmd0.append(list)\n",
    "    cmd1.append(list)\n",
    "    cmd2.append(list)\n",
    "\n",
    "    data.append(cmd0)\n",
    "    data.append(cmd1)\n",
    "    data.append(cmd2)\n",
    "\n",
    "    for i in range(len(data)):\n",
    "        dataToAppend = compute_times(data[i][0],data[i][1])\n",
    "        cmd = data[i]\n",
    "        cmd.append(dataToAppend)\n",
    "        data[i] = cmd\n",
    "    \n",
    "    return data\n",
    "\n",
    "print (run_all_codes())"
   ]
  },
  {
   "cell_type": "markdown",
   "metadata": {},
   "source": [
    "## Question 7"
   ]
  },
  {
   "cell_type": "markdown",
   "metadata": {},
   "source": [
    "Représentez le temps de calcul en fonction de la taille du tableau et du langage via 3 courbes\n",
    "superposées sur un graphique."
   ]
  },
  {
   "cell_type": "code",
   "execution_count": 26,
   "metadata": {},
   "outputs": [
    {
     "data": {
      "text/plain": [
       "<matplotlib.legend.Legend at 0x185f5fa6140>"
      ]
     },
     "execution_count": 26,
     "metadata": {},
     "output_type": "execute_result"
    },
    {
     "data": {
      "image/png": "[encoded data removed]",
      "text/plain": [
       "<Figure size 640x480 with 1 Axes>"
      ]
     },
     "metadata": {},
     "output_type": "display_data"
    }
   ],
   "source": [
    "import numpy\n",
    "import matplotlib.pyplot as plt\n",
    "data = run_all_codes()\n",
    "plt.title(\"data analysis\")\n",
    "plt.plot(data[0][1], data[0][2], label=\"Py\")\n",
    "plt.plot(data[1][1], data[1][2], label=\"C\")\n",
    "plt.plot(data[2][1], data[2][2], label=\"Java\")\n",
    "plt.legend()"
   ]
  },
  {
   "cell_type": "markdown",
   "metadata": {},
   "source": [
    "# 4 Expériences sur grid5000"
   ]
  },
  {
   "cell_type": "markdown",
   "metadata": {},
   "source": [
    "## Question 8 (*)"
   ]
  },
  {
   "attachments": {},
   "cell_type": "markdown",
   "metadata": {},
   "source": [
    "Vérifiez que le script python de la question 6 fonctionne bien sur grid5000 avec des tailles de tableau telles\n",
    "que le temps total pour chaque langage est d’au plus une dizaine de secondes. Vous prendrez ainsi un temps de pause nul."
   ]
  },
  {
   "cell_type": "markdown",
   "metadata": {},
   "source": [
    "## Question 9"
   ]
  },
  {
   "cell_type": "markdown",
   "metadata": {},
   "source": [
    "Récupérez les courbes de puissance pour vérifier la bonne concordance entre vos expériences\n",
    "et les observations. Pour cela, reprenez ce qui a été fait au TP précédent:\n",
    "- définir un couple (login, password)\n",
    "- faire une requête en utilisant la fonction `get_power`"
   ]
  },
  {
   "cell_type": "code",
   "execution_count": 42,
   "metadata": {},
   "outputs": [],
   "source": [
    "import requests\n",
    "import matplotlib.pyplot as plt\n",
    "from getpass import getpass"
   ]
  },
  {
   "cell_type": "code",
   "execution_count": 43,
   "metadata": {},
   "outputs": [],
   "source": [
    "# Identification\n",
    "user = input(f\"Grid'5000 username: \")\n",
    "password = getpass(\"Grid'5000 password: \")\n",
    "g5k_auth = (user, password) "
   ]
  },
  {
   "cell_type": "code",
   "execution_count": 44,
   "metadata": {},
   "outputs": [],
   "source": [
    "def get_power(g5k_auth,node, site, start, stop, metric=\"bmc_fan_power_watt\"):\n",
    "    url = \"https://api.grid5000.fr/stable/sites/%s/metrics?nodes=%s&metrics=%s&start_time=%s&end_time=%s\" % (site, node, metric, start, stop)\n",
    "    print(url)\n",
    "    data = requests.get(url, auth=g5k_auth).json()\n",
    "    return data"
   ]
  },
  {
   "cell_type": "code",
   "execution_count": 45,
   "metadata": {},
   "outputs": [
    {
     "name": "stdout",
     "output_type": "stream",
     "text": [
      "https://api.grid5000.fr/stable/sites/nancy/metrics?nodes=gros-5&metrics=pdu_outlet_power_watt&start_time=2023-01-25T12:04&end_time=2023-01-25T12:20\n"
     ]
    }
   ],
   "source": [
    "# Valeurs à modifier\n",
    "node = \"gros-5\"\n",
    "site = \"nancy\"\n",
    "start_time = \"2023-01-25T12:04\"\n",
    "stop_time = \"2023-01-25T12:20\"\n",
    "metric = \"pdu_outlet_power_watt\"\n",
    "data = get_power(g5k_auth,node, site, start_time, stop_time,metric)\n",
    "#print(data)"
   ]
  },
  {
   "cell_type": "code",
   "execution_count": null,
   "metadata": {},
   "outputs": [],
   "source": []
  },
  {
   "cell_type": "markdown",
   "metadata": {},
   "source": [
    "Si on passe ensuite à des tailles de tableau plus grandes il est important qu’entre chaque exécution du tri\n",
    "rapide il y ait une période de pause. **Dans la suite on prendra 20 secondes.**"
   ]
  },
  {
   "cell_type": "markdown",
   "metadata": {},
   "source": [
    "## Question 10 (*)"
   ]
  },
  {
   "cell_type": "markdown",
   "metadata": {},
   "source": [
    "**Vous voilà maintenant à l’expérience la plus importante du TP puisque vous allez lancer le\n",
    "code d’évaluation du temps de calcul sur de grandes valeurs de tableaux. Cela va prendre un\n",
    "certain temps, aussi il est bien de vérifier une dernière fois votre code, sur de petites tailles.**"
   ]
  },
  {
   "cell_type": "markdown",
   "metadata": {},
   "source": [
    "Une fois le processus terminé, récupérez les temps de calcul qui ont été sauvegardés dans le fichier .txt en utilisant la commande `scp`."
   ]
  },
  {
   "cell_type": "markdown",
   "metadata": {},
   "source": [
    "## Question 11\n",
    "Représentez l’évolution de la puissance énergétique en fonction du temps (physique) pour\n",
    "les 3 codes. Qu’observez vous ?"
   ]
  },
  {
   "cell_type": "markdown",
   "metadata": {},
   "source": [
    "*Vous utiliserez `get_power` comme à la question 9 pour obtenir les données utiles.*"
   ]
  },
  {
   "cell_type": "code",
   "execution_count": null,
   "metadata": {
    "scrolled": true
   },
   "outputs": [],
   "source": []
  },
  {
   "cell_type": "markdown",
   "metadata": {},
   "source": [
    "## Question 12\n",
    "Sauvegardez les valeurs de puissance dans un fichier .json, comme vu au TP précédent."
   ]
  },
  {
   "cell_type": "code",
   "execution_count": null,
   "metadata": {},
   "outputs": [],
   "source": []
  },
  {
   "cell_type": "markdown",
   "metadata": {},
   "source": [
    "# 5 Analyse"
   ]
  },
  {
   "cell_type": "markdown",
   "metadata": {},
   "source": [
    "On considère ici le module python `process_energy_data` qui va permettre d'analyser plus finement les expériences sur grid5000. Vous n'oublierez pas de l'importer à l'aide de (attention à l'emplacement du fichier)"
   ]
  },
  {
   "cell_type": "code",
   "execution_count": null,
   "metadata": {},
   "outputs": [],
   "source": [
    "from process_energy_data import *"
   ]
  },
  {
   "cell_type": "markdown",
   "metadata": {},
   "source": [
    "## Question 13"
   ]
  },
  {
   "cell_type": "markdown",
   "metadata": {},
   "source": [
    "Utilisez la fonction `plot_power` du module `process_energy_data`. Pour cela vous aurez besoin de trois variables `all_dates`, `all_comp_times` et `all_n` que vous obtiendrez à l'aide de la fonction `read_computation_time_file`. \n",
    "\n",
    "Que remarquez vous ?\n"
   ]
  },
  {
   "cell_type": "code",
   "execution_count": null,
   "metadata": {
    "scrolled": true
   },
   "outputs": [],
   "source": []
  },
  {
   "cell_type": "markdown",
   "metadata": {},
   "source": [
    "## Question 14"
   ]
  },
  {
   "cell_type": "markdown",
   "metadata": {},
   "source": [
    "Expliquez pourquoi la fonction `integrate` donne une grandeur qui a la dimension d'une énergie. Déduisez en ce que fait la fonction `compute_energy`. "
   ]
  },
  {
   "cell_type": "markdown",
   "metadata": {},
   "source": [
    "*réponse ici*"
   ]
  },
  {
   "cell_type": "markdown",
   "metadata": {},
   "source": [
    "## Question 15"
   ]
  },
  {
   "cell_type": "markdown",
   "metadata": {},
   "source": [
    "Calculez les énergies associées à chaque appel du tri rapide. Représenter l'évolution de l'énergie en fonction de la taille des tableaux pour chaque langage, sur la même courbe. \n",
    "\n",
    "Concluez sur l’efficacité, à taille constante, de tel ou tel langage sur un autre."
   ]
  },
  {
   "cell_type": "code",
   "execution_count": null,
   "metadata": {},
   "outputs": [],
   "source": []
  },
  {
   "cell_type": "markdown",
   "metadata": {},
   "source": [
    "## Question 16"
   ]
  },
  {
   "cell_type": "markdown",
   "metadata": {},
   "source": [
    "Représentez enfin l’énergie en fonction du temps de calcul. Qu’observez vous ? Quelle conclusion pouvez vous en faire ?"
   ]
  },
  {
   "cell_type": "code",
   "execution_count": null,
   "metadata": {},
   "outputs": [],
   "source": []
  },
  {
   "cell_type": "markdown",
   "metadata": {},
   "source": [
    "## Question 17"
   ]
  },
  {
   "cell_type": "markdown",
   "metadata": {},
   "source": [
    "Si on regarde attentivement les courbes de puissance, on constate qu'entre les appels au tri rapide la puissance ne redescend pas à 0. La puissance réellement pertinente est celle qui est obtenue en soustrayant la puissance mesurée à la puissance moyenne en phase inactive (\"Idle\").\n",
    "\n",
    "Reprenez les mêmes analyses avec cette nouvelle puissance. Est ce que cela change quelque chose à vos conclusions ?\n"
   ]
  }
 ],
 "metadata": {
  "kernelspec": {
   "display_name": "Python 3",
   "language": "python",
   "name": "python3"
  },
  "language_info": {
   "codemirror_mode": {
    "name": "ipython",
    "version": 3
   },
   "file_extension": ".py",
   "mimetype": "text/x-python",
   "name": "python",
   "nbconvert_exporter": "python",
   "pygments_lexer": "ipython3",
   "version": "3.10.4"
  },
  "vscode": {
   "interpreter": {
    "hash": "3cdea24836027e56071457295c9a6206e642e7be646b6731cff5dc9beab77f81"
   }
  }
 },
 "nbformat": 4,
 "nbformat_minor": 4
}
