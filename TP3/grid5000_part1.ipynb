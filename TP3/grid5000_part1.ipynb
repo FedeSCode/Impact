{
 "cells": [
  {
   "cell_type": "markdown",
   "metadata": {},
   "source": [
    "# Consommation énergétique du code, utilisation de la plateforme Grid5000"
   ]
  },
  {
   "cell_type": "markdown",
   "metadata": {},
   "source": [
    "# 1 Déroulement de la séance"
   ]
  },
  {
   "cell_type": "markdown",
   "metadata": {},
   "source": [
    "Dans les deux prochaines séances de TP nous allons travailler sur la plateforme [grid5000](https://www.grid5000.fr/w/Grid5000:Home) pour regarder de\n",
    "manière fine quelle est la consommation énergétique d’un code. Dans la première partie, nous allons apprendre\n",
    "à travailler avec Grid5000. Dans la deuxième partie on se posera la question de savoir quels langages sont les\n",
    "plus efficaces pour implémenter des algorithmes classiques.\n",
    "\n",
    "Les questions alternent entre un travail sur votre machine locale/celle de l’université\n",
    "ou au contraire sur la plateforme Grid5000. Dans ce dernier cas elles seront marquées d'une étoile (*).\n",
    "\n",
    "Vous répondrez aux questions qui nécessitent une réponse, sous la forme de texte ou de code, dans le notebook\n",
    "`grid5000_part1.ipynb`. Pour ouvrir ce document, il faut au préalable ouvrir `jupyter-notebook` ce qui se fait\n",
    "sur les machines de l’université avec la commande  \n",
    "`/opt/anaconda3/bin/jupyter-notebook`."
   ]
  },
  {
   "cell_type": "markdown",
   "metadata": {},
   "source": [
    "# 2. Créer un compte"
   ]
  },
  {
   "cell_type": "markdown",
   "metadata": {},
   "source": [
    "Vous avez du recevoir un mail de grid5000 vous demandant de créer un compte pour accéder à la plateforme."
   ]
  },
  {
   "cell_type": "markdown",
   "metadata": {},
   "source": [
    "### Question 1"
   ]
  },
  {
   "cell_type": "markdown",
   "metadata": {},
   "source": [
    "Générez une clef ssh. Pour cela vous utiliserez la commande suivante  \n",
    "`ssh-keygen -t rsa`  \n",
    "qui crée deux fichiers dans le dossier caché `./ssh`.\n",
    "\n",
    "`id_rsa` est la clef privée (à garder secrète)\n",
    "et `id_rsa.pub` la clef publique que vous transmettrez à grid5000."
   ]
  },
  {
   "cell_type": "markdown",
   "metadata": {},
   "source": [
    "### Question 2"
   ]
  },
  {
   "cell_type": "markdown",
   "metadata": {},
   "source": [
    "Ne lisez pas toutes les instructions du mail mais suivez le lien proposé pour créer votre\n",
    "compte. Vous aurez besoin de transmettre votre clef `id_rsa.pub` au cours du processus."
   ]
  },
  {
   "cell_type": "markdown",
   "metadata": {},
   "source": [
    "# 3. Prise en main"
   ]
  },
  {
   "cell_type": "markdown",
   "metadata": {},
   "source": [
    "## 3.1 Description de l'environnement"
   ]
  },
  {
   "cell_type": "markdown",
   "metadata": {},
   "source": [
    "Grid5000 est un banc de test (\"testbed\" en anglais). Il s’agit d’une plateforme informatique qui permet de\n",
    "réaliser des tests rigoureux sur des outils de calcul numérique haute performance, notamment en calcul parallèle\n",
    "et distribué.\n",
    "Grid5000 s’organise de la manière suivante :  \n",
    "— 8 sites en France  \n",
    "— 800 noeuds localisés à Grenoble (92), Lille (39), Luxembourg (16), Lyon (132), Nancy (189), Nantes (70),\n",
    "Rennes (173), Sophia (44)  \n",
    "— environ 15000 coeurs au total  \n",
    "Vous pourrez accéder à toutes les catactéristiques techniques du matériel [ici](https://www.grid5000.fr/w/Hardware)."
   ]
  },
  {
   "cell_type": "markdown",
   "metadata": {},
   "source": [
    "## 3.2 Quelques règles simples"
   ]
  },
  {
   "cell_type": "markdown",
   "metadata": {},
   "source": [
    "Les règles d’utilisation sont détaillées [ici](https://www.grid5000.fr/w/Grid5000:UsagePolicy). Pour résumer très rapidement, vous ne devez utiliser la plateforme\n",
    "que pour des usages relatifs au TP proposé. On évitera notamment le minage de bitcoin..."
   ]
  },
  {
   "cell_type": "markdown",
   "metadata": {},
   "source": [
    "## 3.3 Première connexion"
   ]
  },
  {
   "cell_type": "markdown",
   "metadata": {},
   "source": [
    "Le schéma représenté sur cette [page](https://www.grid5000.fr/w/Getting_Started#Connecting_for_the_first_time) vous donne un aperçu de l’architecture de grid5000."
   ]
  },
  {
   "cell_type": "markdown",
   "metadata": {},
   "source": [
    "### Question 3 (*)"
   ]
  },
  {
   "attachments": {},
   "cell_type": "markdown",
   "metadata": {},
   "source": [
    "Dans un terminal, connectez vous à une machine d’accès via la commande  \n",
    "`ssh <login>@access.grid5000.fr`  \n",
    "puis connectez vous à une des 8 machines frontales (ou frontend ) associées aux différents\n",
    "sites via la commande  \n",
    "`ssh <site>`  \n",
    "où `<site>` est à remplacer par `grenoble`, `lyon`, `nancy` etc (sans les `< >`). Votre enseignant.e vous dira quel site choisir.\n"
   ]
  },
  {
   "cell_type": "markdown",
   "metadata": {},
   "source": [
    "### Question 4 (*)"
   ]
  },
  {
   "cell_type": "markdown",
   "metadata": {},
   "source": [
    "Assurez vous que votre répertoire courant ne contient qu’un dossier public lui-même contenant un README.txt dont vous prendrez connaissance du contenu."
   ]
  },
  {
   "cell_type": "markdown",
   "metadata": {},
   "source": [
    "### Question 5"
   ]
  },
  {
   "cell_type": "markdown",
   "metadata": {},
   "source": [
    "A l’aide de la commande `scp` **utilisée depuis votre machine**, copiez le fichier de votre\n",
    "choix vers le dossier public de la machine frontale de grid5000 de votre choix. Le répertoire\n",
    "de destination sera de la forme :  \n",
    "`<login>@access.grid5000.fr:<site>/public/`  \n",
    "Vérifiez que l’opération s’est passée sans encombre."
   ]
  },
  {
   "cell_type": "markdown",
   "metadata": {},
   "source": [
    "## 3.4 Réservation et utilisation des ressources"
   ]
  },
  {
   "cell_type": "markdown",
   "metadata": {},
   "source": [
    "L’utilisation des ressources de grid5000 est sujette à certaines contraintes et notamment le fait qu’il faut partager ces ressources avec d’autres utilisateurs. Des outils de visualisation ([vue générale](https://www.grid5000.fr/w/Status)) permettent de connaître\n",
    "l’utilisation des ressources à un instant donné (avec Monika, voir l’exemple de [Nancy](https://intranet.grid5000.fr/oar/Nancy/monika.cgi)) ou sur une certaine durée\n",
    "(avec Gantt, voir [ici](https://intranet.grid5000.fr/oar/Nancy/drawgantt-svg/)).  \n",
    "Dans le cadre de ce TP, il est important d’avoir réservé au préalable un certain nombre de clusters pour\n",
    "que le TP puisse bien se passer. A ce stade, vos enseignants se seront chargés de cette tâche. Vous allez donc\n",
    "travailler au sein de ressources réservées appelées container job et repéré par un `JOB_ID` qui vous sera donné au début du TP, ainsi qu’un des 8 sites associé.  \n",
    "La réservation de ressources passe par [OAR](http://oar.imag.fr/) qui est un utilitaire développé par l’INRIA et très utilisé dans\n",
    "le calcul haute performance."
   ]
  },
  {
   "cell_type": "markdown",
   "metadata": {},
   "source": [
    "### Question 6 (*)"
   ]
  },
  {
   "cell_type": "markdown",
   "metadata": {},
   "source": [
    "Utilisez la commande `oarstat` et repérez les différents jobs associés à l’utilisateur `jlefevre`.  \n",
    "En utilisant la visualisation Monika ou Gantt, trouvez le nombre de noeuds utilisés et la\n",
    "durée d'utilisation."
   ]
  },
  {
   "cell_type": "markdown",
   "metadata": {},
   "source": [
    "Réponse: "
   ]
  },
  {
   "attachments": {},
   "cell_type": "markdown",
   "metadata": {},
   "source": [
    "JOB ID 3972598: 36 noeuds, durée d'utilisation : 2h:59.    \n",
    "JOB ID 3972601: 36 noeuds, durée d'utilisation : 3h.    \n",
    "JOB ID 3972602: 36 noeuds, durée d'utilisation : 3h.   "
   ]
  },
  {
   "cell_type": "markdown",
   "metadata": {},
   "source": [
    "### Question 7 (*)"
   ]
  },
  {
   "cell_type": "markdown",
   "metadata": {},
   "source": [
    "Sachant que vous êtes 40 (Aix) ou 100 (Luminy) étudiant.e.s en parallèle pendant ce TP de\n",
    "3 heures, quelle est la quantité de ressources, exprimée en noeud.heures, à répartir par étudiant.e ?"
   ]
  },
  {
   "cell_type": "markdown",
   "metadata": {},
   "source": [
    "Réponse: "
   ]
  },
  {
   "attachments": {},
   "cell_type": "markdown",
   "metadata": {},
   "source": [
    "100 Luminy, 36 noeud , 3h durée d'utlisations\n",
    "36x3=108\n",
    "108/100= 1.08 noeud.heure"
   ]
  },
  {
   "cell_type": "markdown",
   "metadata": {},
   "source": [
    "**Attention, les deux questions suivantes vont s’enchainer en une minute. Le but n’est évidemment pas d’y répondre en une minute mais d’anticiper les différentes actions que vous allez devoir\n",
    "faire pendant cette précieuse minute.**"
   ]
  },
  {
   "cell_type": "markdown",
   "metadata": {},
   "source": [
    "### Question 8 (*)"
   ]
  },
  {
   "attachments": {},
   "cell_type": "markdown",
   "metadata": {},
   "source": [
    "Réservez chacun.e un seul noeud pour une durée de une minute via la commande :  \n",
    "`oarsub -I -t inner=<JOB_ID> -l host=1,walltime=00:01:00 --project lab-2023-amu-licinfo-impact`\n",
    "oarsub -I -t inner=3972601 -l host=1,walltime=00:01:00 --project lab-2023-amu-licinfo-impact\n"
   ]
  },
  {
   "cell_type": "markdown",
   "metadata": {},
   "source": [
    "Vous devrez voir s’afficher un texte proche de celui-là  \n",
    "`[ADMISSION RULE] Filtering out exotic resources (grouille).  \n",
    "[ADMISSION RULE] Computed global resource filter: -p \"maintenance = 'NO'\"  \n",
    "[ADMISSION_RULE] Computed resource request: -l {\"((type = 'default') AND production = 'NO')\n",
    "AND exotic = 'NO'\"}/host=1  \n",
    "OAR_JOB_ID=3270847  \n",
    "`#` Interactive mode: waiting...`"
   ]
  },
  {
   "cell_type": "markdown",
   "metadata": {},
   "source": [
    "### Question  9 (*)"
   ]
  },
  {
   "cell_type": "markdown",
   "metadata": {},
   "source": [
    "Lancer la commande  \n",
    "`stress -c 1 -t 30`  \n",
    "qui va faire tourner un cpu au maximum de ses capacités pendant 30 secondes. **Attention\n",
    "de bien lancer la commande pendant la minute qui vous est allouée !**"
   ]
  },
  {
   "cell_type": "markdown",
   "metadata": {},
   "source": [
    "# 4. Première mesure de consommation énergétique"
   ]
  },
  {
   "cell_type": "markdown",
   "metadata": {},
   "source": [
    "Dans la partie précédente vous avez utilisé un stress CPU et nous allons voir dans un premier temps comment\n",
    "on peut retrouver la trace de cette activité."
   ]
  },
  {
   "cell_type": "markdown",
   "metadata": {},
   "source": [
    "### Question  10"
   ]
  },
  {
   "cell_type": "markdown",
   "metadata": {},
   "source": [
    "Exécutez les deux blocs suivants pour charger les librairies et définir les 3 fonctions. Utilisez pour cela le bouton `Run`."
   ]
  },
  {
   "cell_type": "code",
   "execution_count": 8,
   "metadata": {},
   "outputs": [],
   "source": [
    "import requests\n",
    "import matplotlib.pyplot as plt\n",
    "from getpass import getpass as getpass\n",
    "from datetime import datetime\n",
    "import dateutil.parser as dp\n"
   ]
  },
  {
   "cell_type": "code",
   "execution_count": 15,
   "metadata": {},
   "outputs": [],
   "source": [
    "def get_power(g5k_auth,node, site, start, stop, metric=\"pdu_outlet_power_watt\"):\n",
    "    url = \"https://api.grid5000.fr/stable/sites/%s/metrics?nodes=%s&metrics=%s&start_time=%s&end_time=%s\" % (site, node, metric, start, stop)\n",
    "    print(url)\n",
    "    data = requests.get(url, auth=g5k_auth).json()\n",
    "    return data\n",
    "\n",
    "def plot(values):\n",
    "    plt.figure(figsize=(15,9))\n",
    "    plt.plot(values)\n",
    "    plt.xlabel(\"Axe des x: ?\")\n",
    "    plt.ylabel(\"Axe des y: ?\")\n",
    "    plt.show()\n",
    "    \n",
    "def convert_date_sec(date_string):\n",
    "    return datetime.timestamp(dp.isoparse(date_string))"
   ]
  },
  {
   "cell_type": "markdown",
   "metadata": {},
   "source": [
    "### Question  11"
   ]
  },
  {
   "cell_type": "markdown",
   "metadata": {},
   "source": [
    "Exécutez le bloc suivant. Il vous sera demandé votre login et votre mot de passe pour grid5000 qui permettront ensuite d’adresser des\n",
    "requêtes à l’API de Grid5000."
   ]
  },
  {
   "cell_type": "code",
   "execution_count": 16,
   "metadata": {},
   "outputs": [
    {
     "ename": "NameError",
     "evalue": "name 'getpass' is not defined",
     "output_type": "error",
     "traceback": [
      "\u001b[1;31m---------------------------------------------------------------------------\u001b[0m",
      "\u001b[1;31mNameError\u001b[0m                                 Traceback (most recent call last)",
      "Cell \u001b[1;32mIn[16], line 4\u001b[0m\n\u001b[0;32m      1\u001b[0m \u001b[39m# Identification\u001b[39;00m\n\u001b[0;32m      3\u001b[0m user \u001b[39m=\u001b[39m \u001b[39minput\u001b[39m(\u001b[39mf\u001b[39m\u001b[39m\"\u001b[39m\u001b[39mGrid\u001b[39m\u001b[39m'\u001b[39m\u001b[39m5000 username: \u001b[39m\u001b[39m\"\u001b[39m)\n\u001b[1;32m----> 4\u001b[0m password \u001b[39m=\u001b[39m getpass(\u001b[39m\"\u001b[39m\u001b[39mGrid\u001b[39m\u001b[39m'\u001b[39m\u001b[39m5000 password: \u001b[39m\u001b[39m\"\u001b[39m)\n\u001b[0;32m      5\u001b[0m g5k_auth \u001b[39m=\u001b[39m (user, password) \n",
      "\u001b[1;31mNameError\u001b[0m: name 'getpass' is not defined"
     ]
    }
   ],
   "source": [
    "# Identification\n",
    "\n",
    "user = input(f\"Grid'5000 username: \")\n",
    "password = getpass(\"Grid'5000 password: \")\n",
    "g5k_auth = (user, password) "
   ]
  },
  {
   "cell_type": "markdown",
   "metadata": {},
   "source": [
    "### Question 12"
   ]
  },
  {
   "cell_type": "markdown",
   "metadata": {},
   "source": [
    "Regardez ensuite la fonction `get_power` et appelez là dans le bloc prévu à cet effet sans\n",
    "mentionner de métrique particulière. Verifiez que l’affichage du résultat avec `print` donne\n",
    "une liste vide."
   ]
  },
  {
   "cell_type": "code",
   "execution_count": 9,
   "metadata": {},
   "outputs": [
    {
     "ename": "NameError",
     "evalue": "name 'g5k_auth' is not defined",
     "output_type": "error",
     "traceback": [
      "\u001b[1;31m---------------------------------------------------------------------------\u001b[0m",
      "\u001b[1;31mNameError\u001b[0m                                 Traceback (most recent call last)",
      "Cell \u001b[1;32mIn[9], line 9\u001b[0m\n\u001b[0;32m      7\u001b[0m start_time \u001b[39m=\u001b[39m \u001b[39m\"\u001b[39m\u001b[39m2023-01-16T19:28\u001b[39m\u001b[39m\"\u001b[39m\n\u001b[0;32m      8\u001b[0m stop_time \u001b[39m=\u001b[39m \u001b[39m\"\u001b[39m\u001b[39m2023-01-16T19:31\u001b[39m\u001b[39m\"\u001b[39m\n\u001b[1;32m----> 9\u001b[0m data \u001b[39m=\u001b[39m get_power(g5k_auth,node, site, start_time, stop_time)\n\u001b[0;32m     10\u001b[0m \u001b[39mprint\u001b[39m(data)\n",
      "\u001b[1;31mNameError\u001b[0m: name 'g5k_auth' is not defined"
     ]
    }
   ],
   "source": [
    "# Première requete\n",
    "# node : noeud sur lequel le premier stress cpu a tourné\n",
    "# site : site de la frontale\n",
    "# start_time et stop_time sont des dates au format ISO8601, par exemple \"2021-12-31T23:59\"\n",
    "node = \"gros-80\"\n",
    "site = \"nancy\"\n",
    "start_time = \"2023-01-16T19:28\"\n",
    "stop_time = \"2023-01-16T19:31\"\n",
    "data = get_power(g5k_auth,node, site, start_time, stop_time)\n",
    "print(data)"
   ]
  },
  {
   "cell_type": "markdown",
   "metadata": {},
   "source": [
    "La variable `node` désigne le noeud sur lequel vous avez lancé votre stress cpu précédemment. `start_time` et\n",
    "`stop_time` correspondent aux instants entre lesquels vous souhaitez mesurer la puissance électrique utilisée par\n",
    "le noeud. Un instant devra s’exprimer selon la [norme 8601] (https://fr.wikipedia.org/wiki/ISO_8601) , par exemple \"2021-12-31T23:59\". Si vous voulez\n",
    "retrouver précisément le moment où votre job a été lancé, vous pourrez consulter [Gantt](https://intranet.grid5000.fr/oar/Nancy/drawgantt-svg/)."
   ]
  },
  {
   "cell_type": "markdown",
   "metadata": {},
   "source": [
    "### Question  13"
   ]
  },
  {
   "cell_type": "markdown",
   "metadata": {},
   "source": [
    "En regardant le tableau au bas de la [page](https://www.grid5000.fr/w/Monitoring_Using_Kwollect) dédiée aux métriques disponibles sur grid5000 et le\n",
    "paramètre par défaut de `get_power` vous devriez comprendre pourquoi il ne s’est rien affiché\n",
    "précedemment. Modifiez alors l’appel de fonction précédent en utilisant une des métriques\n",
    "utilisées sur votre noeud de calcul pour monitorer la puissance. Sauf problèmes de dernière\n",
    "minute la métrique à utiliser sera `pdu_outlet_power_watt`."
   ]
  },
  {
   "cell_type": "markdown",
   "metadata": {},
   "source": [
    "Réponse:"
   ]
  },
  {
   "cell_type": "code",
   "execution_count": 2,
   "metadata": {},
   "outputs": [],
   "source": [
    "#dans la fonction get_power metric:\"bmc_fan_power_watt\" Le metric nest pas le bon faut le changer pour: metric=\"pdu_outlet_power_watt\"\n",
    "def get_power(g5k_auth,node, site, start, stop, metric=\"pdu_outlet_power_watt\"):\n",
    "    url = \"https://api.grid5000.fr/stable/sites/%s/metrics?nodes=%s&metrics=%s&start_time=%s&end_time=%s\" % (site, node, metric, start, stop)\n",
    "    print(url)\n",
    "    data = requests.get(url, auth=g5k_auth).json()\n",
    "    return data\n",
    "\n",
    "def plot(values):\n",
    "    plt.figure(figsize=(15,9))\n",
    "    plt.plot(values)\n",
    "    plt.xlabel(\"Axe des x: ?\")\n",
    "    plt.ylabel(\"Axe des y: ?\")\n",
    "    plt.show()\n",
    "    \n",
    "def convert_date_sec(date_string):\n",
    "    return datetime.timestamp(dp.isoparse(date_string))"
   ]
  },
  {
   "cell_type": "markdown",
   "metadata": {},
   "source": [
    "### Question 14"
   ]
  },
  {
   "cell_type": "markdown",
   "metadata": {},
   "source": [
    "Regardez l’affichage du résultat sur le notebook. Quelle est la structure de données de chaque\n",
    "élément de la liste `data` ? Trouvez comment récupérer l’information de puissance en Watt. Enfin,\n",
    "après avoir construit la séquence de toutes les puissances, affichez graphiquement l’évolution\n",
    "du profil de puissance au cours du temps en utilisant la fonction `plot` fournie. Ajoutez une\n",
    "légende pour les axes."
   ]
  },
  {
   "cell_type": "markdown",
   "metadata": {},
   "source": [
    "Réponse:"
   ]
  },
  {
   "cell_type": "code",
   "execution_count": 37,
   "metadata": {},
   "outputs": [
    {
     "ename": "AttributeError",
     "evalue": "'list' object has no attribute 'get'",
     "output_type": "error",
     "traceback": [
      "\u001b[1;31m---------------------------------------------------------------------------\u001b[0m",
      "\u001b[1;31mAttributeError\u001b[0m                            Traceback (most recent call last)",
      "Cell \u001b[1;32mIn[37], line 8\u001b[0m\n\u001b[0;32m      5\u001b[0m dictionary \u001b[39m=\u001b[39m json\u001b[39m.\u001b[39mload(\u001b[39mopen\u001b[39m(\u001b[39m'\u001b[39m\u001b[39mdata.json\u001b[39m\u001b[39m'\u001b[39m))\n\u001b[0;32m      6\u001b[0m \u001b[39m#print(dictionary)\u001b[39;00m\n\u001b[1;32m----> 8\u001b[0m values  \u001b[39m=\u001b[39m dictionary\u001b[39m.\u001b[39;49mget(\u001b[39m'\u001b[39m\u001b[39mvalues\u001b[39m\u001b[39m'\u001b[39m)\n\u001b[0;32m      9\u001b[0m plot(values)\n",
      "\u001b[1;31mAttributeError\u001b[0m: 'list' object has no attribute 'get'"
     ]
    }
   ],
   "source": [
    "##C'est un fichier Json\n",
    "import matplotlib.pyplot as plt\n",
    "import json\n",
    "\n",
    "dictionary = json.load(open('data.json'))\n",
    "#print(dictionary)\n",
    "\n",
    "values  = dictionary\n",
    "plot(values)\n",
    "\n"
   ]
  },
  {
   "cell_type": "markdown",
   "metadata": {},
   "source": [
    "### Question 15"
   ]
  },
  {
   "cell_type": "markdown",
   "metadata": {},
   "source": [
    "Récupérez l’information temporelle dans `data` et la convertir en secondes depuis le temps\n",
    "de début de l’expérience. Vous utiliserez la fonction `convert_date_sec` qui est fournie dans\n",
    "le notebook."
   ]
  },
  {
   "cell_type": "markdown",
   "metadata": {},
   "source": [
    "Réponse:"
   ]
  },
  {
   "cell_type": "code",
   "execution_count": null,
   "metadata": {},
   "outputs": [],
   "source": []
  },
  {
   "cell_type": "markdown",
   "metadata": {},
   "source": [
    "### Question 16"
   ]
  },
  {
   "cell_type": "markdown",
   "metadata": {},
   "source": [
    "Faites ensuite l’affichage de la température du processeur, en reprenant une métrique adaptée. Superposez les courbes de puissance et de température et conclure."
   ]
  },
  {
   "cell_type": "markdown",
   "metadata": {},
   "source": [
    "Réponse:"
   ]
  },
  {
   "cell_type": "code",
   "execution_count": null,
   "metadata": {},
   "outputs": [],
   "source": []
  },
  {
   "cell_type": "markdown",
   "metadata": {},
   "source": [
    "# 5. Autres expériences et mesures"
   ]
  },
  {
   "cell_type": "markdown",
   "metadata": {},
   "source": [
    "Dans cette partie vous allez faire plusieurs expériences en utilisant toujours la fonction `stress` et en faisant\n",
    "varier ses paramètres. Un des objectifs est notamment de regarder l’évolution de la puissance et de la température du CPU avec le nombre de coeurs utilisés."
   ]
  },
  {
   "cell_type": "markdown",
   "metadata": {},
   "source": [
    "### Question 17 (*)"
   ]
  },
  {
   "cell_type": "markdown",
   "metadata": {},
   "source": [
    "Dans la fonction `stress` faites varier le nombre de CPU de 1 à 8 avec une pause d’une\n",
    "minute entre chaque appel de fonction. Attention, vous réserverez un noeud pour 5 minutes\n",
    "maximum. Il est très recommandé de faire un script python ou bash pour automatiser le\n",
    "processus."
   ]
  },
  {
   "cell_type": "markdown",
   "metadata": {},
   "source": [
    "### Question 18"
   ]
  },
  {
   "cell_type": "markdown",
   "metadata": {},
   "source": [
    "Affichez le profil de puissance en fonction du temps. Dans une autre figure vous afficherez\n",
    "la puissance maximale en fonction du nombre de CPU, ainsi que la variation de puissance\n",
    "par rapport à l’état inactif (idle)."
   ]
  },
  {
   "cell_type": "markdown",
   "metadata": {},
   "source": [
    "Réponse:"
   ]
  },
  {
   "cell_type": "code",
   "execution_count": null,
   "metadata": {},
   "outputs": [],
   "source": []
  },
  {
   "cell_type": "markdown",
   "metadata": {},
   "source": [
    "### Question 19"
   ]
  },
  {
   "cell_type": "markdown",
   "metadata": {},
   "source": [
    "Faites la même analyse avec la température maximale."
   ]
  },
  {
   "cell_type": "markdown",
   "metadata": {},
   "source": [
    "Réponse:"
   ]
  },
  {
   "cell_type": "code",
   "execution_count": null,
   "metadata": {},
   "outputs": [],
   "source": []
  },
  {
   "cell_type": "markdown",
   "metadata": {},
   "source": [
    "### Question 20 (*)"
   ]
  },
  {
   "cell_type": "markdown",
   "metadata": {},
   "source": [
    "Reprenez une expérimentation avec stress en fixant un nombre de CPU et en variant la\n",
    "durée, entre 30 secondes et 2 minutes avec une pause d’une minute entre chaque appel. Le\n",
    "noeud devra être réservé pour 8 minutes maximum."
   ]
  },
  {
   "cell_type": "markdown",
   "metadata": {},
   "source": [
    "### Question 21"
   ]
  },
  {
   "cell_type": "markdown",
   "metadata": {},
   "source": [
    "Faites une synthèse des résultats obtenus et proposez d’autres expérimentations qui permettraient d’aller un peu plus loin dans vos conclusions."
   ]
  },
  {
   "cell_type": "markdown",
   "metadata": {},
   "source": [
    "Réponse:"
   ]
  },
  {
   "cell_type": "code",
   "execution_count": null,
   "metadata": {},
   "outputs": [],
   "source": []
  },
  {
   "cell_type": "markdown",
   "metadata": {},
   "source": [
    "# 6 Evaluation globale de la consommation de grid5000 (bonus)"
   ]
  },
  {
   "cell_type": "markdown",
   "metadata": {},
   "source": [
    "S’il vous reste du temps, vous pourrez évaluer grossièrement ou plus finement la consommation énergétique\n",
    "d’une plateforme comme grid5000, en comptabilisant tous les clusters des différents sites et en envisageant\n",
    "différents taux d’utilisation possible.  \n",
    "Vous pourrez par exemple consulter les caractéristiques techniques du matériel sur cette [page](https://www.grid5000.fr/w/Hardware). Pour avoir\n",
    "une estimation plus fine, vous pourrez utiliser l’API de grid5000 et vous inspirer de ce [code](https://www.grid5000.fr/w/Getting_Started#Retrieving_information_from_API_with_python) pour interroger les\n",
    "différents sites, puis les différents clusters et enfin compter le nombre de CPU sur les différents noeuds. Des\n",
    "hypothèses seront nécessaires pour extrapoler la consommation sur votre noeud d’expérimentation à tous les\n",
    "autres noeuds de Grid5000.  \n",
    "Vous pourrez donner les résultats en kW.h, en émissions de CO2 par an et en euros. On rappelle des\n",
    "informations sur :  \n",
    "— La quantité de CO2 par kWh, via le site de [Rte-France](https://www.rte-france.com/eco2mix/les-emissions-de-co2-par-kwh-produit-en-france)  \n",
    "— Le prix du kWh à environ 15 centimes."
   ]
  },
  {
   "cell_type": "markdown",
   "metadata": {},
   "source": [
    "Réponse:"
   ]
  },
  {
   "cell_type": "code",
   "execution_count": null,
   "metadata": {},
   "outputs": [],
   "source": []
  }
 ],
 "metadata": {
  "kernelspec": {
   "display_name": "Python 3",
   "language": "python",
   "name": "python3"
  },
  "language_info": {
   "codemirror_mode": {
    "name": "ipython",
    "version": 3
   },
   "file_extension": ".py",
   "mimetype": "text/x-python",
   "name": "python",
   "nbconvert_exporter": "python",
   "pygments_lexer": "ipython3",
   "version": "3.10.4"
  },
  "vscode": {
   "interpreter": {
    "hash": "3cdea24836027e56071457295c9a6206e642e7be646b6731cff5dc9beab77f81"
   }
  }
 },
 "nbformat": 4,
 "nbformat_minor": 4
}
